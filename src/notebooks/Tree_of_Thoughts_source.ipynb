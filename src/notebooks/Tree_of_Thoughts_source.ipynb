{
  "nbformat": 4,
  "nbformat_minor": 0,
  "metadata": {
    "colab": {
      "provenance": [],
      "authorship_tag": "ABX9TyPALrP/gx4J/7iRGdRDp+wJ",
      "include_colab_link": true
    },
    "kernelspec": {
      "name": "python3",
      "display_name": "Python 3"
    },
    "language_info": {
      "name": "python"
    }
  },
  "cells": [
    {
      "cell_type": "markdown",
      "metadata": {
        "id": "view-in-github",
        "colab_type": "text"
      },
      "source": [
        "<a href=\"https://colab.research.google.com/github/weezymatt/tree-of-thoughts_demo/blob/main/src/notebooks/Tree_of_Thoughts_source.ipynb\" target=\"_parent\"><img src=\"https://colab.research.google.com/assets/colab-badge.svg\" alt=\"Open In Colab\"/></a>"
      ]
    },
    {
      "cell_type": "markdown",
      "source": [
        "# Tree of Thoughts\n",
        "\n",
        "Implementation: https://github.com/princeton-nlp/tree-of-thought-llm"
      ],
      "metadata": {
        "id": "U1sy4Dfjhgz-"
      }
    },
    {
      "cell_type": "code",
      "source": [
        "%%capture\n",
        "!pip install tree-of-thoughts-llm"
      ],
      "metadata": {
        "id": "7lSeY0tthiJM"
      },
      "execution_count": null,
      "outputs": []
    },
    {
      "cell_type": "code",
      "source": [
        "import argparse\n",
        "from tot.methods.bfs import solve\n",
        "from tot.tasks.game24 import Game24Task"
      ],
      "metadata": {
        "id": "EB0jcYL9hsAX"
      },
      "execution_count": null,
      "outputs": []
    },
    {
      "cell_type": "code",
      "source": [
        "task = Game24Task()\n",
        "task"
      ],
      "metadata": {
        "id": "UcMjfX7Khxra"
      },
      "execution_count": null,
      "outputs": []
    },
    {
      "cell_type": "code",
      "source": [
        "args = argparse.Namespace(backend='gpt-4',\n",
        "                          temperature=0.7,\n",
        "                          task='game24',\n",
        "                          naive_run=False,\n",
        "                          prompt_sample=None,\n",
        "                          method_generate='propose',\n",
        "                          method_evaluate='value',\n",
        "                          method_select='greedy',\n",
        "                          n_generate_sample=1,\n",
        "                          n_evaluate_sample=3,\n",
        "                          n_select_sample=5)\n",
        "\n",
        "task = Game24Task()\n",
        "ys, infos = solve(args, task, 900)\n",
        "print(ys[0])"
      ],
      "metadata": {
        "id": "VnORUmbWh5F3"
      },
      "execution_count": null,
      "outputs": []
    },
    {
      "cell_type": "code",
      "source": [
        "# Abhay & visualize trees"
      ],
      "metadata": {
        "id": "44ycrSv7iILg"
      },
      "execution_count": null,
      "outputs": []
    }
  ]
}