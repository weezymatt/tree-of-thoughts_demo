{
 "cells": [
  {
   "cell_type": "markdown",
   "metadata": {
    "id": "U1sy4Dfjhgz-"
   },
   "source": [
    "# Tree of Thoughts\n",
    "\n",
    "Implementation: https://github.com/princeton-nlp/tree-of-thought-llm"
   ]
  },
  {
   "cell_type": "code",
   "execution_count": 1,
   "metadata": {},
   "outputs": [],
   "source": [
    "import os\n",
    "import openai\n",
    "import json\n",
    "\n",
    "openai.api_key = os.environ.get('OPENAI_API_KEY')"
   ]
  },
  {
   "cell_type": "code",
   "execution_count": 2,
   "metadata": {
    "id": "EB0jcYL9hsAX"
   },
   "outputs": [],
   "source": [
    "import argparse\n",
    "from tot.methods.bfs import solve\n",
    "from tot.tasks.game24 import Game24Task"
   ]
  },
  {
   "cell_type": "code",
   "execution_count": 3,
   "metadata": {
    "id": "UcMjfX7Khxra"
   },
   "outputs": [
    {
     "data": {
      "text/plain": [
       "<tot.tasks.game24.Game24Task at 0x12c19b650>"
      ]
     },
     "execution_count": 3,
     "metadata": {},
     "output_type": "execute_result"
    }
   ],
   "source": [
    "task = Game24Task()\n",
    "task"
   ]
  },
  {
   "cell_type": "code",
   "execution_count": 7,
   "metadata": {
    "id": "VnORUmbWh5F3"
   },
   "outputs": [
    {
     "name": "stdout",
     "output_type": "stream",
     "text": [
      "functools.partial(<function gpt at 0x10369c540>, model='gpt-4', temperature=0.7)\n",
      "-- new_ys --: ('4 + 5 = 9 (left: 6 9 10)\\n', '5 + 6 = 11 (left: 4 10 11)\\n', '10 - 4 = 6 (left: 5 6 6)\\n', '10 / 5 = 2 (left: 2 4 6)\\n', '6 - 4 = 2 (left: 2 5 10)\\n', '6 * 4 = 24 (left: 5 10 24)\\n', '4 * 5 = 20 (left: 6 10 20)\\n', '10 - 5 = 5 (left: 4 5 6)\\n')\n",
      "-- sol values --: (3.0, 3.0, 3.0, 3.0, 2.001, 2.001, 2.001, 2.001)\n",
      "-- choices --: ['4 + 5 = 9 (left: 6 9 10)\\n', '5 + 6 = 11 (left: 4 10 11)\\n', '10 - 4 = 6 (left: 5 6 6)\\n', '10 / 5 = 2 (left: 2 4 6)\\n', '6 - 4 = 2 (left: 2 5 10)\\n']\n",
      "\n",
      "-- new_ys --: ('10 - 4 = 6 (left: 5 6 6)\\n5 * 6 = 30 (left: 6 30)\\n', '10 / 5 = 2 (left: 2 4 6)\\n4 - 2 = 2 (left: 2 2 6)\\n', '4 + 5 = 9 (left: 6 9 10)\\n6 + 9 = 15 (left: 10 15)\\n', '4 + 5 = 9 (left: 6 9 10)\\n9 - 6 = 3 (left: 3 10)\\n', '4 + 5 = 9 (left: 6 9 10)\\n10 - 6 = 4 (left: 4 9)\\n', '4 + 5 = 9 (left: 6 9 10)\\n10 - 9 = 1 (left: 1 6)\\n', '4 + 5 = 9 (left: 6 9 10)\\n6 * 9 = 54 (left: 10 54)\\n', '4 + 5 = 9 (left: 6 9 10)\\n9 / 6 = 1.5 (left: 1.5 10)\\n', '4 + 5 = 9 (left: 6 9 10)\\n10 / 6 = 1.6667 (left: 1.6667 9)\\n', '4 + 5 = 9 (left: 6 9 10)\\n10 / 9 = 1.1111 (left: 1.1111 6)\\n', '5 + 6 = 11 (left: 4 10 11)\\n4 + 10 = 14 (left: 11 14)\\n', '5 + 6 = 11 (left: 4 10 11)\\n10 - 4 = 6 (left: 6 11)\\n', '5 + 6 = 11 (left: 4 10 11)\\n11 - 4 = 7 (left: 7 10)\\n', '5 + 6 = 11 (left: 4 10 11)\\n4 * 10 = 40 (left: 11 40)\\n', '5 + 6 = 11 (left: 4 10 11)\\n11 + 4 = 15 (left: 10 15)\\n', '5 + 6 = 11 (left: 4 10 11)\\n10 + 4 = 14 (left: 11 14)\\n', '5 + 6 = 11 (left: 4 10 11)\\n11 - 10 = 1 (left: 1 4)\\n', '5 + 6 = 11 (left: 4 10 11)\\n10 / 4 = 2.5 (left: 2.5 11)\\n', '10 - 4 = 6 (left: 5 6 6)\\n5 + 6 = 11 (left: 6 11)\\n', '10 - 4 = 6 (left: 5 6 6)\\n6 - 5 = 1 (left: 1 6)\\n', '10 - 4 = 6 (left: 5 6 6)\\n6 / 5 = 1.2 (left: 1.2 6)\\n', '10 - 4 = 6 (left: 5 6 6)\\n6 * 6 = 36 (left: 5 36)\\n', '10 - 4 = 6 (left: 5 6 6)\\n5 - 6 = -1 (left: -1 6)\\n', '10 / 5 = 2 (left: 2 4 6)\\n2 + 4 = 6 (left: 6 6)\\n', '10 / 5 = 2 (left: 2 4 6)\\n4 / 2 = 2 (left: 2 6)\\n', '10 / 5 = 2 (left: 2 4 6)\\n6 - 2 = 4 (left: 4 4)\\n', '10 / 5 = 2 (left: 2 4 6)\\n2 * 4 = 8 (left: 6 8)\\n', '10 / 5 = 2 (left: 2 4 6)\\n6 / 2 = 3 (left: 3 4)\\n', '10 / 5 = 2 (left: 2 4 6)\\n6 - 4 = 2 (left: 2 2 2)\\n', '10 / 5 = 2 (left: 2 4 6)\\n4 * 2 = 8 (left: 6 8)\\n', '6 - 4 = 2 (left: 2 5 10)\\n5 + 2 = 7 (left: 7 10)\\n', '6 - 4 = 2 (left: 2 5 10)\\n10 - 2 = 8 (left: 5 8)\\n', '6 - 4 = 2 (left: 2 5 10)\\n10 / 2 = 5 (left: 5 5)\\n', '6 - 4 = 2 (left: 2 5 10)\\n2 * 10 = 20 (left: 5 20)\\n', '6 - 4 = 2 (left: 2 5 10)\\n5 - 2 = 3 (left: 3 10)\\n', '6 - 4 = 2 (left: 2 5 10)\\n2 * 5 = 10 (left: 10 10)\\n', '6 - 4 = 2 (left: 2 5 10)\\n5 * 2 = 10 (left: 10 10)\\n', '6 - 4 = 2 (left: 2 5 10)\\n10 - 5 = 5 (left: 2 5)\\n')\n",
      "-- sol values --: (60.0, 60.0, 0.003, 0.003, 0.003, 0.003, 0.003, 0.003, 0.003, 0.003, 0.003, 0.003, 0.003, 0.003, 0.003, 0.003, 0.003, 0.003, 0.003, 0.003, 0.003, 0.003, 0.003, 0.003, 0.003, 0.003, 0.003, 0.003, 0.003, 0.003, 0.003, 0.003, 0.003, 0.003, 0.003, 0.002, 0.002, 0.002)\n",
      "-- choices --: ['10 - 4 = 6 (left: 5 6 6)\\n5 * 6 = 30 (left: 6 30)\\n', '10 / 5 = 2 (left: 2 4 6)\\n4 - 2 = 2 (left: 2 2 6)\\n', '4 + 5 = 9 (left: 6 9 10)\\n6 + 9 = 15 (left: 10 15)\\n', '4 + 5 = 9 (left: 6 9 10)\\n9 - 6 = 3 (left: 3 10)\\n', '4 + 5 = 9 (left: 6 9 10)\\n10 - 6 = 4 (left: 4 9)\\n']\n",
      "\n",
      "-- new_ys --: ('10 - 4 = 6 (left: 5 6 6)\\n5 * 6 = 30 (left: 6 30)\\n30 - 6 = 24 (left: 24)\\n', '10 / 5 = 2 (left: 2 4 6)\\n4 - 2 = 2 (left: 2 2 6)\\n2 + 2 = 4 (left: 4 6)\\n', '10 / 5 = 2 (left: 2 4 6)\\n4 - 2 = 2 (left: 2 2 6)\\n2 * 2 = 4 (left: 4 6)\\n', '10 - 4 = 6 (left: 5 6 6)\\n5 * 6 = 30 (left: 6 30)\\n6 + 30 = 36 (left: 36)\\n', '10 - 4 = 6 (left: 5 6 6)\\n5 * 6 = 30 (left: 6 30)\\n30 / 6 = 5 (left: 5)\\n', '10 / 5 = 2 (left: 2 4 6)\\n4 - 2 = 2 (left: 2 2 6)\\n6 - 2 = 4 (left: 2 4)\\n', '10 / 5 = 2 (left: 2 4 6)\\n4 - 2 = 2 (left: 2 2 6)\\n6 / 2 = 3 (left: 2 3)\\n', '10 / 5 = 2 (left: 2 4 6)\\n4 - 2 = 2 (left: 2 2 6)\\n2 - 2 = 0 (left: 0 6)\\n', '4 + 5 = 9 (left: 6 9 10)\\n6 + 9 = 15 (left: 10 15)\\n10 + 15 = 25 (left: 25)\\n', '4 + 5 = 9 (left: 6 9 10)\\n6 + 9 = 15 (left: 10 15)\\n15 - 10 = 5 (left: 5)\\n', '4 + 5 = 9 (left: 6 9 10)\\n6 + 9 = 15 (left: 10 15)\\n10 * 15 = 150 (left: 150)\\n', '4 + 5 = 9 (left: 6 9 10)\\n9 - 6 = 3 (left: 3 10)\\n3 + 10 = 13 (left: 13)\\n', '4 + 5 = 9 (left: 6 9 10)\\n9 - 6 = 3 (left: 3 10)\\n10 - 3 = 7 (left: 7)\\n', '4 + 5 = 9 (left: 6 9 10)\\n9 - 6 = 3 (left: 3 10)\\n10 / 3 = 3.33 (left: 3.33)\\n', '4 + 5 = 9 (left: 6 9 10)\\n9 - 6 = 3 (left: 3 10)\\n3 * 10 = 30 (left: 30)\\n', '4 + 5 = 9 (left: 6 9 10)\\n10 - 6 = 4 (left: 4 9)\\n4 + 9 = 13 (left: 13)\\n', '4 + 5 = 9 (left: 6 9 10)\\n10 - 6 = 4 (left: 4 9)\\n9 - 4 = 5 (left: 5)\\n', '4 + 5 = 9 (left: 6 9 10)\\n10 - 6 = 4 (left: 4 9)\\n4 * 9 = 36 (left: 36)\\n', '10 - 4 = 6 (left: 5 6 6)\\n5 * 6 = 30 (left: 6 30)\\n6 * 30 = 180 (left: 180)\\n', '4 + 5 = 9 (left: 6 9 10)\\n6 + 9 = 15 (left: 10 15)\\n15 / 10 = 1.5 (left: 1.5)\\n', '4 + 5 = 9 (left: 6 9 10)\\n10 - 6 = 4 (left: 4 9)\\n9 / 4 = 2.25 (left: 2.25)\\n', '10 / 5 = 2 (left: 2 4 6)\\n4 - 2 = 2 (left: 2 2 6)\\n6 - 2 = 4 (left: 2 4)\\n')\n",
      "-- sol values --: (60.0, 60.0, 60.0, 0.003, 0.003, 0.003, 0.003, 0.003, 0.003, 0.003, 0.003, 0.003, 0.003, 0.003, 0.003, 0.003, 0.003, 0.003, 0.002, 0.002, 0.002, 0)\n",
      "-- choices --: ['10 - 4 = 6 (left: 5 6 6)\\n5 * 6 = 30 (left: 6 30)\\n30 - 6 = 24 (left: 24)\\n', '10 / 5 = 2 (left: 2 4 6)\\n4 - 2 = 2 (left: 2 2 6)\\n2 + 2 = 4 (left: 4 6)\\n', '10 / 5 = 2 (left: 2 4 6)\\n4 - 2 = 2 (left: 2 2 6)\\n2 * 2 = 4 (left: 4 6)\\n', '10 - 4 = 6 (left: 5 6 6)\\n5 * 6 = 30 (left: 6 30)\\n6 + 30 = 36 (left: 36)\\n', '10 - 4 = 6 (left: 5 6 6)\\n5 * 6 = 30 (left: 6 30)\\n30 / 6 = 5 (left: 5)\\n']\n",
      "\n",
      "-- new_ys --: ('10 - 4 = 6 (left: 5 6 6)\\n5 * 6 = 30 (left: 6 30)\\n30 - 6 = 24 (left: 24)\\nAnswer: (5 * (10 - 4)) - 6 = 24\\n', '10 / 5 = 2 (left: 2 4 6)\\n4 - 2 = 2 (left: 2 2 6)\\n2 + 2 = 4 (left: 4 6)\\n4 * 6 = 24 (left: 24)\\n', '10 / 5 = 2 (left: 2 4 6)\\n4 - 2 = 2 (left: 2 2 6)\\n2 * 2 = 4 (left: 4 6)\\n4 * 6 = 24 (left: 24)\\n', '10 / 5 = 2 (left: 2 4 6)\\n4 - 2 = 2 (left: 2 2 6)\\n2 + 2 = 4 (left: 4 6)\\n6 / 4 = 1.5 (left: 1.5)\\n', '10 / 5 = 2 (left: 2 4 6)\\n4 - 2 = 2 (left: 2 2 6)\\n2 * 2 = 4 (left: 4 6)\\n6 / 4 = 1.5 (left: 1.5)\\n', '10 / 5 = 2 (left: 2 4 6)\\n4 - 2 = 2 (left: 2 2 6)\\n2 + 2 = 4 (left: 4 6)\\n4 + 6 = 10 (left: 10)\\n', '10 / 5 = 2 (left: 2 4 6)\\n4 - 2 = 2 (left: 2 2 6)\\n2 + 2 = 4 (left: 4 6)\\n6 - 4 = 2 (left: 2)\\n', '10 / 5 = 2 (left: 2 4 6)\\n4 - 2 = 2 (left: 2 2 6)\\n2 * 2 = 4 (left: 4 6)\\n4 + 6 = 10 (left: 10)\\n', '10 / 5 = 2 (left: 2 4 6)\\n4 - 2 = 2 (left: 2 2 6)\\n2 * 2 = 4 (left: 4 6)\\n6 - 4 = 2 (left: 2)\\n', '10 - 4 = 6 (left: 5 6 6)\\n5 * 6 = 30 (left: 6 30)\\n6 + 30 = 36 (left: 36)\\n10 * 4 = 40 (left: 36 40)\\n', '10 - 4 = 6 (left: 5 6 6)\\n5 * 6 = 30 (left: 6 30)\\n6 + 30 = 36 (left: 36)\\n16 - 4 = 12 (left: 12 36)\\n', '10 - 4 = 6 (left: 5 6 6)\\n5 * 6 = 30 (left: 6 30)\\n6 + 30 = 36 (left: 36)\\n16 / 4 = 4 (left: 4 36)\\n', '10 - 4 = 6 (left: 5 6 6)\\n5 * 6 = 30 (left: 6 30)\\n6 + 30 = 36 (left: 36)\\n16 + 4 = 20 (left: 20 36)\\n', '10 - 4 = 6 (left: 5 6 6)\\n5 * 6 = 30 (left: 6 30)\\n6 + 30 = 36 (left: 36)\\n36 - 4 = 32 (left: 16 32)\\n', '10 - 4 = 6 (left: 5 6 6)\\n5 * 6 = 30 (left: 6 30)\\n6 + 30 = 36 (left: 36)\\n36 / 4 = 9 (left: 9 16)\\n', '10 - 4 = 6 (left: 5 6 6)\\n5 * 6 = 30 (left: 6 30)\\n6 + 30 = 36 (left: 36)\\n36 + 4 = 40 (left: 16 40)\\n', '10 - 4 = 6 (left: 5 6 6)\\n5 * 6 = 30 (left: 6 30)\\n6 + 30 = 36 (left: 36)\\n36 * 4 = 144 (left: 16 144)\\n', '10 - 4 = 6 (left: 5 6 6)\\n5 * 6 = 30 (left: 6 30)\\n30 / 6 = 5 (left: 5)\\n5 + 2 = 7 (left: 7 8 8)\\n', '10 - 4 = 6 (left: 5 6 6)\\n5 * 6 = 30 (left: 6 30)\\n30 / 6 = 5 (left: 5)\\n5 - 2 = 3 (left: 3 8 8)\\n', '10 - 4 = 6 (left: 5 6 6)\\n5 * 6 = 30 (left: 6 30)\\n30 / 6 = 5 (left: 5)\\n5 * 2 = 10 (left: 10 8 8)\\n', '10 - 4 = 6 (left: 5 6 6)\\n5 * 6 = 30 (left: 6 30)\\n30 / 6 = 5 (left: 5)\\n2 - 5 = -3 (left: -3 8 8)\\n', '10 - 4 = 6 (left: 5 6 6)\\n5 * 6 = 30 (left: 6 30)\\n30 / 6 = 5 (left: 5)\\n8 - 5 = 3 (left: 2 3 8)\\n', '10 - 4 = 6 (left: 5 6 6)\\n5 * 6 = 30 (left: 6 30)\\n30 / 6 = 5 (left: 5)\\n8 / 5 = 1.6 (left: 1.6 2 8)\\n', '10 - 4 = 6 (left: 5 6 6)\\n5 * 6 = 30 (left: 6 30)\\n30 / 6 = 5 (left: 5)\\n14 - 5 = 9 (left: 2 8 9)\\n', '10 - 4 = 6 (left: 5 6 6)\\n5 * 6 = 30 (left: 6 30)\\n30 / 6 = 5 (left: 5)\\n14 / 5 = 2.8 (left: 2 2.8 8)\\n')\n",
      "-- sol values --: (60.0, 60.0, 60.0, 0.002, 0.002, 0, 0, 0, 0, 0, 0, 0, 0, 0, 0, 0, 0, 0, 0, 0, 0, 0, 0, 0, 0)\n",
      "-- choices --: ['10 - 4 = 6 (left: 5 6 6)\\n5 * 6 = 30 (left: 6 30)\\n30 - 6 = 24 (left: 24)\\nAnswer: (5 * (10 - 4)) - 6 = 24\\n', '10 / 5 = 2 (left: 2 4 6)\\n4 - 2 = 2 (left: 2 2 6)\\n2 + 2 = 4 (left: 4 6)\\n4 * 6 = 24 (left: 24)\\n', '10 / 5 = 2 (left: 2 4 6)\\n4 - 2 = 2 (left: 2 2 6)\\n2 * 2 = 4 (left: 4 6)\\n4 * 6 = 24 (left: 24)\\n', '10 / 5 = 2 (left: 2 4 6)\\n4 - 2 = 2 (left: 2 2 6)\\n2 + 2 = 4 (left: 4 6)\\n6 / 4 = 1.5 (left: 1.5)\\n', '10 / 5 = 2 (left: 2 4 6)\\n4 - 2 = 2 (left: 2 2 6)\\n2 * 2 = 4 (left: 4 6)\\n6 / 4 = 1.5 (left: 1.5)\\n']\n",
      "\n",
      "['10 - 4 = 6 (left: 5 6 6)\\n5 * 6 = 30 (left: 6 30)\\n30 - 6 = 24 (left: 24)\\nAnswer: (5 * (10 - 4)) - 6 = 24\\n', '10 / 5 = 2 (left: 2 4 6)\\n4 - 2 = 2 (left: 2 2 6)\\n2 + 2 = 4 (left: 4 6)\\n4 * 6 = 24 (left: 24)\\n', '10 / 5 = 2 (left: 2 4 6)\\n4 - 2 = 2 (left: 2 2 6)\\n2 * 2 = 4 (left: 4 6)\\n4 * 6 = 24 (left: 24)\\n', '10 / 5 = 2 (left: 2 4 6)\\n4 - 2 = 2 (left: 2 2 6)\\n2 + 2 = 4 (left: 4 6)\\n6 / 4 = 1.5 (left: 1.5)\\n', '10 / 5 = 2 (left: 2 4 6)\\n4 - 2 = 2 (left: 2 2 6)\\n2 * 2 = 4 (left: 4 6)\\n6 / 4 = 1.5 (left: 1.5)\\n']\n",
      "10 - 4 = 6 (left: 5 6 6)\n",
      "5 * 6 = 30 (left: 6 30)\n",
      "30 - 6 = 24 (left: 24)\n",
      "Answer: (5 * (10 - 4)) - 6 = 24\n",
      "\n"
     ]
    }
   ],
   "source": [
    "args = argparse.Namespace(backend='gpt-4',\n",
    "                          temperature=0.7,\n",
    "                          task='game24',\n",
    "                          naive_run=False,\n",
    "                          prompt_sample=None,\n",
    "                          method_generate='propose',\n",
    "                          method_evaluate='value',\n",
    "                          method_select='greedy',\n",
    "                          n_generate_sample=1,\n",
    "                          n_evaluate_sample=3,\n",
    "                          n_select_sample=5)\n",
    "\n",
    "task = Game24Task()\n",
    "ys, infos = solve(args, task, 900)\n",
    "print(ys[0])"
   ]
  },
  {
   "cell_type": "code",
   "execution_count": null,
   "metadata": {},
   "outputs": [],
   "source": []
  },
  {
   "cell_type": "code",
   "execution_count": 34,
   "metadata": {},
   "outputs": [],
   "source": [
    "# save results\n",
    "infos_results = \"../../logs/game24/gpt-4_propose1_value3_greedy5.json\"\n",
    "json_string = json.dumps(infos, indent=4)\n",
    "\n",
    "with open(infos_results, \"w\") as file:\n",
    "    file.write(json_string)"
   ]
  },
  {
   "cell_type": "code",
   "execution_count": null,
   "metadata": {},
   "outputs": [],
   "source": []
  }
 ],
 "metadata": {
  "colab": {
   "authorship_tag": "ABX9TyPALrP/gx4J/7iRGdRDp+wJ",
   "include_colab_link": true,
   "provenance": []
  },
  "kernelspec": {
   "display_name": "tree of thoughts",
   "language": "python",
   "name": "tot_env"
  },
  "language_info": {
   "codemirror_mode": {
    "name": "ipython",
    "version": 3
   },
   "file_extension": ".py",
   "mimetype": "text/x-python",
   "name": "python",
   "nbconvert_exporter": "python",
   "pygments_lexer": "ipython3",
   "version": "3.11.5"
  }
 },
 "nbformat": 4,
 "nbformat_minor": 1
}
